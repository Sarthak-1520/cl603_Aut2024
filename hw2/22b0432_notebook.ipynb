{
 "cells": [
  {
   "cell_type": "code",
   "execution_count": null,
   "metadata": {},
   "outputs": [],
   "source": [
    "import numpy as np\n",
    "import matplotlib.pyplot as plt\n",
    "import pandas as pd \n",
    "\n",
    "def f1(x):\n",
    "    return -0.1*x / ((1 + 0.05*x) * (1 + 0.1*x))\n",
    "def f2(x):\n",
    "    return x*np.log(x)\n",
    "def f3(x):\n",
    "    return 2*x**2 + 16/x\n",
    "def f4(x):\n",
    "    return -4*x*np.sin(x)\n",
    "\n",
    "def swans_algorithm(f, x0, step, max_iterations=100):\n",
    "    \"\"\"\n",
    "    Swan's algorithm to bracket the optimum point of a unimodal function.\n",
    "\n",
    "    :param f: The unimodal function to be optimized.\n",
    "    :param x0: The initial guess point.\n",
    "    :param step: The step size for expanding the interval.\n",
    "    :param max_iterations: Maximum number of iterations to prevent infinite loops.\n",
    "    :return: A tuple containing the interval (x1, x3) that brackets the minimum point.\n",
    "    \"\"\"\n",
    "    x1 = x0\n",
    "    f1 = f(x1)\n",
    "\n",
    "    # Initial step in the positive direction\n",
    "    x2 = x1 + step\n",
    "    f2 = f(x2)\n",
    "\n",
    "    if f2 > f1:\n",
    "        # If function value increases, switch direction and reduce step size\n",
    "        step = -step\n",
    "        x2 = x1 + step\n",
    "        f2 = f(x2)\n",
    "\n",
    "    for _ in range(max_iterations):\n",
    "        # Move to next point\n",
    "        x3 = x2 + step\n",
    "        f3 = f(x3)\n",
    "\n",
    "        if f3 > f2:\n",
    "            # The interval [x1, x3] brackets the minimum\n",
    "            return (x1, x3)\n",
    "        \n",
    "        # Shift the interval\n",
    "        x1, f1 = x2, f2\n",
    "        x2, f2 = x3, f3\n",
    "        step *= 2  # Double the step size to expand the search space\n",
    "\n",
    "    raise Exception(\"Maximum iterations exceeded without finding a bracketing interval.\")\n",
    "        \n",
    "            \n"
   ]
  }
 ],
 "metadata": {
  "kernelspec": {
   "display_name": "cl249",
   "language": "python",
   "name": "python3"
  },
  "language_info": {
   "codemirror_mode": {
    "name": "ipython",
    "version": 3
   },
   "file_extension": ".py",
   "mimetype": "text/x-python",
   "name": "python",
   "nbconvert_exporter": "python",
   "pygments_lexer": "ipython3",
   "version": "3.12.4"
  }
 },
 "nbformat": 4,
 "nbformat_minor": 2
}
